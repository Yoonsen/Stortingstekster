{
 "cells": [
  {
   "cell_type": "markdown",
   "metadata": {},
   "source": [
    "# Stortingstekster i dhlab\n",
    "\n",
    "Installer siste versjon av dhlab `pip install dhlab` eller `pip install dhlab==2.0.9`. Dhlab endrer seg rimelig fort, men det er mest snakk om utvidelser. Koden som gis her regner vi skal fortsette å være stabil."
   ]
  },
  {
   "cell_type": "code",
   "execution_count": 1,
   "metadata": {},
   "outputs": [],
   "source": [
    "import dhlab.text as dh"
   ]
  },
  {
   "cell_type": "markdown",
   "metadata": {},
   "source": [
    "Tekstene i Statsmaktene er kodet som digistorting"
   ]
  },
  {
   "cell_type": "code",
   "execution_count": 3,
   "metadata": {},
   "outputs": [
    {
     "data": {
      "text/plain": [
       "2345"
      ]
     },
     "execution_count": 3,
     "metadata": {},
     "output_type": "execute_result"
    }
   ],
   "source": [
    "storting = dh.Corpus(doctype=\"digistorting\", limit = 5000)\n",
    "storting.size"
   ]
  },
  {
   "cell_type": "markdown",
   "metadata": {},
   "source": [
    "Bygg konkordanser med Concordance (en klasse). Cellen henter ut konkordansene, og printer antallet treff. Neste celle gir deg anledning til å sample et visst antall."
   ]
  },
  {
   "cell_type": "code",
   "execution_count": 7,
   "metadata": {},
   "outputs": [
    {
     "data": {
      "text/plain": [
       "32414"
      ]
     },
     "execution_count": 7,
     "metadata": {},
     "output_type": "execute_result"
    }
   ],
   "source": [
    "conc = dh.Concordance(storting, \"statsminister\")\n",
    "conc.size"
   ]
  },
  {
   "cell_type": "code",
   "execution_count": 8,
   "metadata": {},
   "outputs": [
    {
     "data": {
      "text/html": [
       "<style  type=\"text/css\" >\n",
       "</style><table id=\"T_fe431a24_7d1e_11ec_9329_8d7c94313dd0\" ><thead>    <tr>        <th class=\"blank level0\" ></th>        <th class=\"col_heading level0 col0\" >link</th>        <th class=\"col_heading level0 col1\" >concordance</th>    </tr></thead><tbody>\n",
       "                <tr>\n",
       "                        <th id=\"T_fe431a24_7d1e_11ec_9329_8d7c94313dd0level0_row0\" class=\"row_heading level0 row0\" >12188</th>\n",
       "                        <td id=\"T_fe431a24_7d1e_11ec_9329_8d7c94313dd0row0_col0\" class=\"data row0 col0\" ><a target='_blank' href = 'https://urn.nb.no/URN:NBN:no-nb_digistorting_1902-03_part7_vol-a'>URN:NBN:no-nb_digistorting_1902-03_part7_vol-a</a></td>\n",
       "                        <td id=\"T_fe431a24_7d1e_11ec_9329_8d7c94313dd0row0_col1\" class=\"data row0 col1\" >Presidenten : Den næst indtegnede taler , hr. Bøhn , har frafaldt ordet . <b>Statsminister</b> Blehr : Jeg skal efterkomme præsidentens opfordring og være meget kort .</td>\n",
       "            </tr>\n",
       "            <tr>\n",
       "                        <th id=\"T_fe431a24_7d1e_11ec_9329_8d7c94313dd0level0_row1\" class=\"row_heading level0 row1\" >7151</th>\n",
       "                        <td id=\"T_fe431a24_7d1e_11ec_9329_8d7c94313dd0row1_col0\" class=\"data row1 col0\" ><a target='_blank' href = 'https://urn.nb.no/URN:NBN:no-nb_digistorting_1990-91_part7_vol-c'>URN:NBN:no-nb_digistorting_1990-91_part7_vol-c</a></td>\n",
       "                        <td id=\"T_fe431a24_7d1e_11ec_9329_8d7c94313dd0row1_col1\" class=\"data row1 col1\" >... Danmarks <b>statsminister</b> åpent og ærlig innrømmer at de kommende år vil innskrenke Danmarks og de øvrige EF-landenes betydning som selvstendige nasj oner . Jeg er... </td>\n",
       "            </tr>\n",
       "            <tr>\n",
       "                        <th id=\"T_fe431a24_7d1e_11ec_9329_8d7c94313dd0level0_row2\" class=\"row_heading level0 row2\" >6175</th>\n",
       "                        <td id=\"T_fe431a24_7d1e_11ec_9329_8d7c94313dd0row2_col0\" class=\"data row2 col0\" ><a target='_blank' href = 'https://urn.nb.no/URN:NBN:no-nb_digistorting_1885_part-stid_vol-1'>URN:NBN:no-nb_digistorting_1885_part-stid_vol-1</a></td>\n",
       "                        <td id=\"T_fe431a24_7d1e_11ec_9329_8d7c94313dd0row2_col1\" class=\"data row2 col1\" >... Men den ene af dem , den som er tilstaaet <b>Statsminister</b> Sverdrup , ophsrer felvfslgelig i det Øieblik , da Indehaveren er indtraadt i Statens Tjeneste . Det er... </td>\n",
       "            </tr>\n",
       "            <tr>\n",
       "                        <th id=\"T_fe431a24_7d1e_11ec_9329_8d7c94313dd0level0_row3\" class=\"row_heading level0 row3\" >26378</th>\n",
       "                        <td id=\"T_fe431a24_7d1e_11ec_9329_8d7c94313dd0row3_col0\" class=\"data row3 col0\" ><a target='_blank' href = 'https://urn.nb.no/URN:NBN:no-nb_digistorting_1836-37_part9_vol-a'>URN:NBN:no-nb_digistorting_1836-37_part9_vol-a</a></td>\n",
       "                        <td id=\"T_fe431a24_7d1e_11ec_9329_8d7c94313dd0row3_col1\" class=\"data row3 col1\" >Idet Hans Majestoet , overeensstemmende med flere Storlhings Onste , der fandt den for <b>Statsminister</b>-Embedet reglementerede Gage , 12,000 Spd . uforholdsmcessig hoi , ved naadigst Resolution af... </td>\n",
       "            </tr>\n",
       "            <tr>\n",
       "                        <th id=\"T_fe431a24_7d1e_11ec_9329_8d7c94313dd0level0_row4\" class=\"row_heading level0 row4\" >17282</th>\n",
       "                        <td id=\"T_fe431a24_7d1e_11ec_9329_8d7c94313dd0row4_col0\" class=\"data row4 col0\" ><a target='_blank' href = 'https://urn.nb.no/URN:NBN:no-nb_digistorting_2003_part3_vol-e'>URN:NBN:no-nb_digistorting_2003_part3_vol-e</a></td>\n",
       "                        <td id=\"T_fe431a24_7d1e_11ec_9329_8d7c94313dd0row4_col1\" class=\"data row4 col1\" >... På bakgrunn av det presset nordiske land har på sine nasjonale avgiftsnivå som følge av lave alkoholavgifter og priser i nabolandene , tok <b>statsminister</b> Bondevik under... </td>\n",
       "            </tr>\n",
       "            <tr>\n",
       "                        <th id=\"T_fe431a24_7d1e_11ec_9329_8d7c94313dd0level0_row5\" class=\"row_heading level0 row5\" >13220</th>\n",
       "                        <td id=\"T_fe431a24_7d1e_11ec_9329_8d7c94313dd0row5_col0\" class=\"data row5 col0\" ><a target='_blank' href = 'https://urn.nb.no/URN:NBN:no-nb_digistorting_1896_part8_vol-a'>URN:NBN:no-nb_digistorting_1896_part8_vol-a</a></td>\n",
       "                        <td id=\"T_fe431a24_7d1e_11ec_9329_8d7c94313dd0row5_col1\" class=\"data row5 col1\" >... nceste Session , og det maa vcere tilstrcekkeligt , og det maa vcere fyldestgjørende . <b>Statsminister</b> Hagerup : leg har ikke forlangt Ordet for at udtale mig om det... </td>\n",
       "            </tr>\n",
       "            <tr>\n",
       "                        <th id=\"T_fe431a24_7d1e_11ec_9329_8d7c94313dd0level0_row6\" class=\"row_heading level0 row6\" >26301</th>\n",
       "                        <td id=\"T_fe431a24_7d1e_11ec_9329_8d7c94313dd0row6_col0\" class=\"data row6 col0\" ><a target='_blank' href = 'https://urn.nb.no/URN:NBN:no-nb_digistorting_1894_part6_vol-a'>URN:NBN:no-nb_digistorting_1894_part6_vol-a</a></td>\n",
       "                        <td id=\"T_fe431a24_7d1e_11ec_9329_8d7c94313dd0row6_col1\" class=\"data row6 col1\" >Den følgende Dag afgav <b>Statsminister</b> Steen i Storthinget den Erklæring , at Ministeriet ikke videre kunde deltage i Thingets Møder som politisk ledende Regjering . Præsdenten udtalte... </td>\n",
       "            </tr>\n",
       "            <tr>\n",
       "                        <th id=\"T_fe431a24_7d1e_11ec_9329_8d7c94313dd0level0_row7\" class=\"row_heading level0 row7\" >9505</th>\n",
       "                        <td id=\"T_fe431a24_7d1e_11ec_9329_8d7c94313dd0row7_col0\" class=\"data row7 col0\" ><a target='_blank' href = 'https://urn.nb.no/URN:NBN:no-nb_digistorting_1993-94_part7_vol-d'>URN:NBN:no-nb_digistorting_1993-94_part7_vol-d</a></td>\n",
       "                        <td id=\"T_fe431a24_7d1e_11ec_9329_8d7c94313dd0row7_col1\" class=\"data row7 col1\" >... Første taler i fredagens møte blir <b>statsminister</b> Gro Harlem Brundtland .</td>\n",
       "            </tr>\n",
       "            <tr>\n",
       "                        <th id=\"T_fe431a24_7d1e_11ec_9329_8d7c94313dd0level0_row8\" class=\"row_heading level0 row8\" >14206</th>\n",
       "                        <td id=\"T_fe431a24_7d1e_11ec_9329_8d7c94313dd0row8_col0\" class=\"data row8 col0\" ><a target='_blank' href = 'https://urn.nb.no/URN:NBN:no-nb_digistorting_1916_part8_vol-a'>URN:NBN:no-nb_digistorting_1916_part8_vol-a</a></td>\n",
       "                        <td id=\"T_fe431a24_7d1e_11ec_9329_8d7c94313dd0row8_col1\" class=\"data row8 col1\" ><b>Statsminister</b> Gunnar Knudsen : Jeg vil — for at bruke hr. Lappens uttryk — bede Lagtingets medlemmer lægge merke til det , som har været sagt mange ganger før... </td>\n",
       "            </tr>\n",
       "            <tr>\n",
       "                        <th id=\"T_fe431a24_7d1e_11ec_9329_8d7c94313dd0level0_row9\" class=\"row_heading level0 row9\" >14306</th>\n",
       "                        <td id=\"T_fe431a24_7d1e_11ec_9329_8d7c94313dd0row9_col0\" class=\"data row9 col0\" ><a target='_blank' href = 'https://urn.nb.no/URN:NBN:no-nb_digistorting_1903-04_part7_vol-b'>URN:NBN:no-nb_digistorting_1903-04_part7_vol-b</a></td>\n",
       "                        <td id=\"T_fe431a24_7d1e_11ec_9329_8d7c94313dd0row9_col1\" class=\"data row9 col1\" >... Jeg vti derfor ogsaa — særlig da désuden det standpunkt , hvorpaa jeg staår , er blevet temmelig udførlig fremholdt fra komiteens ordførers og fra <b>statsminister</b> Hagerups side... </td>\n",
       "            </tr>\n",
       "            <tr>\n",
       "                        <th id=\"T_fe431a24_7d1e_11ec_9329_8d7c94313dd0level0_row10\" class=\"row_heading level0 row10\" >32263</th>\n",
       "                        <td id=\"T_fe431a24_7d1e_11ec_9329_8d7c94313dd0row10_col0\" class=\"data row10 col0\" ><a target='_blank' href = 'https://urn.nb.no/URN:NBN:no-nb_digistorting_1933_part2_vol-b'>URN:NBN:no-nb_digistorting_1933_part2_vol-b</a></td>\n",
       "                        <td id=\"T_fe431a24_7d1e_11ec_9329_8d7c94313dd0row10_col1\" class=\"data row10 col1\" >... Brev fra samme til <b>statsminister</b> Hundseid av 16 august 1932.</td>\n",
       "            </tr>\n",
       "            <tr>\n",
       "                        <th id=\"T_fe431a24_7d1e_11ec_9329_8d7c94313dd0level0_row11\" class=\"row_heading level0 row11\" >7757</th>\n",
       "                        <td id=\"T_fe431a24_7d1e_11ec_9329_8d7c94313dd0row11_col0\" class=\"data row11 col0\" ><a target='_blank' href = 'https://urn.nb.no/URN:NBN:no-nb_digistorting_1902-03_part6_vol-a'>URN:NBN:no-nb_digistorting_1902-03_part6_vol-a</a></td>\n",
       "                        <td id=\"T_fe431a24_7d1e_11ec_9329_8d7c94313dd0row11_col1\" class=\"data row11 col1\" >... lød i 1814 som nu med Undtagelse af , at Ordene « den ene <b>Statsminister</b> » i Iste Led og « Statsministeren 1 i sidste Led ved ( irundlovsbestemmelse af... </td>\n",
       "            </tr>\n",
       "            <tr>\n",
       "                        <th id=\"T_fe431a24_7d1e_11ec_9329_8d7c94313dd0level0_row12\" class=\"row_heading level0 row12\" >4714</th>\n",
       "                        <td id=\"T_fe431a24_7d1e_11ec_9329_8d7c94313dd0row12_col0\" class=\"data row12 col0\" ><a target='_blank' href = 'https://urn.nb.no/URN:NBN:no-nb_digistorting_1987-88_part7_vol-c'>URN:NBN:no-nb_digistorting_1987-88_part7_vol-c</a></td>\n",
       "                        <td id=\"T_fe431a24_7d1e_11ec_9329_8d7c94313dd0row12_col1\" class=\"data row12 col1\" >... spille en konstruktiv rolle mellom supermaktene . Arnljot Norwich hadde her overtatt presidentplassen . <b>Statsminister</b> Gro Harlem Brundtland : Samtidig som Stortinget drøfter Norge , EF og europeisk samarbeid... </td>\n",
       "            </tr>\n",
       "            <tr>\n",
       "                        <th id=\"T_fe431a24_7d1e_11ec_9329_8d7c94313dd0level0_row13\" class=\"row_heading level0 row13\" >24605</th>\n",
       "                        <td id=\"T_fe431a24_7d1e_11ec_9329_8d7c94313dd0row13_col0\" class=\"data row13 col0\" ><a target='_blank' href = 'https://urn.nb.no/URN:NBN:no-nb_digistorting_1871_part3_vol-a'>URN:NBN:no-nb_digistorting_1871_part3_vol-a</a></td>\n",
       "                        <td id=\"T_fe431a24_7d1e_11ec_9329_8d7c94313dd0row13_col1\" class=\"data row13 col1\" >... Efterat dette Departement af Hans Excellence den fvenste lustitie-<b>Statsminister</b> var givet Anledning til at blive bekjendt med denne He > iesterets Erklcering , indgik man under... </td>\n",
       "            </tr>\n",
       "            <tr>\n",
       "                        <th id=\"T_fe431a24_7d1e_11ec_9329_8d7c94313dd0level0_row14\" class=\"row_heading level0 row14\" >3141</th>\n",
       "                        <td id=\"T_fe431a24_7d1e_11ec_9329_8d7c94313dd0row14_col0\" class=\"data row14 col0\" ><a target='_blank' href = 'https://urn.nb.no/URN:NBN:no-nb_digistorting_1985-86_part8_vol-a'>URN:NBN:no-nb_digistorting_1985-86_part8_vol-a</a></td>\n",
       "                        <td id=\"T_fe431a24_7d1e_11ec_9329_8d7c94313dd0row14_col1\" class=\"data row14 col1\" >... i forskingssamanheng eller — slik dette budsjettet har gått — i noen annan samanheng . <b>Statsminister</b> Willoch plasserer seg nå i vår parlamentariske historie fint inn ved sida... </td>\n",
       "            </tr>\n",
       "            <tr>\n",
       "                        <th id=\"T_fe431a24_7d1e_11ec_9329_8d7c94313dd0level0_row15\" class=\"row_heading level0 row15\" >26351</th>\n",
       "                        <td id=\"T_fe431a24_7d1e_11ec_9329_8d7c94313dd0row15_col0\" class=\"data row15 col0\" ><a target='_blank' href = 'https://urn.nb.no/URN:NBN:no-nb_digistorting_1919_part8_vol-a'>URN:NBN:no-nb_digistorting_1919_part8_vol-a</a></td>\n",
       "                        <td id=\"T_fe431a24_7d1e_11ec_9329_8d7c94313dd0row15_col1\" class=\"data row15 col1\" >... protokollnemndi , held eg det for noko av ei plikt aa segja dette . <b>Statsminister</b> Gunnar Knudsen : Det lot til paa hr. Halvorsen , at han i sin... </td>\n",
       "            </tr>\n",
       "            <tr>\n",
       "                        <th id=\"T_fe431a24_7d1e_11ec_9329_8d7c94313dd0level0_row16\" class=\"row_heading level0 row16\" >24844</th>\n",
       "                        <td id=\"T_fe431a24_7d1e_11ec_9329_8d7c94313dd0row16_col0\" class=\"data row16 col0\" ><a target='_blank' href = 'https://urn.nb.no/URN:NBN:no-nb_digistorting_1918_part8_vol-a'>URN:NBN:no-nb_digistorting_1918_part8_vol-a</a></td>\n",
       "                        <td id=\"T_fe431a24_7d1e_11ec_9329_8d7c94313dd0row16_col1\" class=\"data row16 col1\" >... noget forslag i saken , men jeg vil ha gjort opmerksom paa dette . <b>Statsminister</b> Gunnar Knudsen : Godtgjørelsen til næringsnævnderne blev fastsat , av Stortinget ved behandlingen av... </td>\n",
       "            </tr>\n",
       "            <tr>\n",
       "                        <th id=\"T_fe431a24_7d1e_11ec_9329_8d7c94313dd0level0_row17\" class=\"row_heading level0 row17\" >8990</th>\n",
       "                        <td id=\"T_fe431a24_7d1e_11ec_9329_8d7c94313dd0row17_col0\" class=\"data row17 col0\" ><a target='_blank' href = 'https://urn.nb.no/URN:NBN:no-nb_digistorting_1920_part7_vol-b'>URN:NBN:no-nb_digistorting_1920_part7_vol-b</a></td>\n",
       "                        <td id=\"T_fe431a24_7d1e_11ec_9329_8d7c94313dd0row17_col1\" class=\"data row17 col1\" >... Samme spørsmaal var oppe for 2 — 3 maaneder sigden i forbindelse med — saavidt jeg i husker — oplysningsvæsenets fond , og <b>statsminister</b> Gunnar Knudsen nævnte ogsaa ved... </td>\n",
       "            </tr>\n",
       "            <tr>\n",
       "                        <th id=\"T_fe431a24_7d1e_11ec_9329_8d7c94313dd0level0_row18\" class=\"row_heading level0 row18\" >5357</th>\n",
       "                        <td id=\"T_fe431a24_7d1e_11ec_9329_8d7c94313dd0row18_col0\" class=\"data row18 col0\" ><a target='_blank' href = 'https://urn.nb.no/URN:NBN:no-nb_digistorting_1910_part7_vol-a'>URN:NBN:no-nb_digistorting_1910_part7_vol-a</a></td>\n",
       "                        <td id=\"T_fe431a24_7d1e_11ec_9329_8d7c94313dd0row18_col1\" class=\"data row18 col1\" >... Imidlertid tror jeg dog , der er andre end den ærede <b>statsminister</b> og mig , som kommer til at fælde den endelige dom i denne sak . Jeg... </td>\n",
       "            </tr>\n",
       "            <tr>\n",
       "                        <th id=\"T_fe431a24_7d1e_11ec_9329_8d7c94313dd0level0_row19\" class=\"row_heading level0 row19\" >29436</th>\n",
       "                        <td id=\"T_fe431a24_7d1e_11ec_9329_8d7c94313dd0row19_col0\" class=\"data row19 col0\" ><a target='_blank' href = 'https://urn.nb.no/URN:NBN:no-nb_digistorting_2002_part7_vol-a'>URN:NBN:no-nb_digistorting_2002_part7_vol-a</a></td>\n",
       "                        <td id=\"T_fe431a24_7d1e_11ec_9329_8d7c94313dd0row19_col1\" class=\"data row19 col1\" ><b>Statsminister</b> Kjell Magne Bondevik : Aetat blir foreslått styrket i vårt budsjett . Antall tiltaksplasser blir foreslått økt . Vi er i drøfting med Arbeiderpartiet om budsjettet i... </td>\n",
       "            </tr>\n",
       "    </tbody></table>"
      ],
      "text/plain": [
       "<pandas.io.formats.style.Styler at 0x7f4977bf1640>"
      ]
     },
     "execution_count": 8,
     "metadata": {},
     "output_type": "execute_result"
    }
   ],
   "source": [
    "conc.show(20)"
   ]
  },
  {
   "cell_type": "markdown",
   "metadata": {},
   "source": [
    "Hele konkordanse ligger i datarammen concordance"
   ]
  },
  {
   "cell_type": "code",
   "execution_count": 9,
   "metadata": {},
   "outputs": [
    {
     "data": {
      "text/html": [
       "<div>\n",
       "<style scoped>\n",
       "    .dataframe tbody tr th:only-of-type {\n",
       "        vertical-align: middle;\n",
       "    }\n",
       "\n",
       "    .dataframe tbody tr th {\n",
       "        vertical-align: top;\n",
       "    }\n",
       "\n",
       "    .dataframe thead th {\n",
       "        text-align: right;\n",
       "    }\n",
       "</style>\n",
       "<table border=\"1\" class=\"dataframe\">\n",
       "  <thead>\n",
       "    <tr style=\"text-align: right;\">\n",
       "      <th></th>\n",
       "      <th>link</th>\n",
       "      <th>urn</th>\n",
       "      <th>concordance</th>\n",
       "    </tr>\n",
       "  </thead>\n",
       "  <tbody>\n",
       "    <tr>\n",
       "      <th>0</th>\n",
       "      <td>&lt;a target='_blank' href = 'https://urn.nb.no/U...</td>\n",
       "      <td>URN:NBN:no-nb_digistorting_1992-93_part6_vol-ba</td>\n",
       "      <td>... Allerede i mai 1991 skrev OFS til &lt;b&gt;stats...</td>\n",
       "    </tr>\n",
       "    <tr>\n",
       "      <th>1</th>\n",
       "      <td>&lt;a target='_blank' href = 'https://urn.nb.no/U...</td>\n",
       "      <td>URN:NBN:no-nb_digistorting_1986-87_part8_vol-a</td>\n",
       "      <td>... Den svenske &lt;b&gt;statsminister&lt;/b&gt; har også ...</td>\n",
       "    </tr>\n",
       "    <tr>\n",
       "      <th>2</th>\n",
       "      <td>&lt;a target='_blank' href = 'https://urn.nb.no/U...</td>\n",
       "      <td>URN:NBN:no-nb_digistorting_1986-87_part8_vol-a</td>\n",
       "      <td>... Da Willoch var &lt;b&gt;statsminister&lt;/b&gt; og vi ...</td>\n",
       "    </tr>\n",
       "    <tr>\n",
       "      <th>3</th>\n",
       "      <td>&lt;a target='_blank' href = 'https://urn.nb.no/U...</td>\n",
       "      <td>URN:NBN:no-nb_digistorting_1986-87_part8_vol-a</td>\n",
       "      <td>... Det store fleirtalet i komiteen har ved de...</td>\n",
       "    </tr>\n",
       "    <tr>\n",
       "      <th>4</th>\n",
       "      <td>&lt;a target='_blank' href = 'https://urn.nb.no/U...</td>\n",
       "      <td>URN:NBN:no-nb_digistorting_1986-87_part8_vol-a</td>\n",
       "      <td>... oktober 1975 , då han som &lt;b&gt;statsminister...</td>\n",
       "    </tr>\n",
       "    <tr>\n",
       "      <th>...</th>\n",
       "      <td>...</td>\n",
       "      <td>...</td>\n",
       "      <td>...</td>\n",
       "    </tr>\n",
       "    <tr>\n",
       "      <th>32409</th>\n",
       "      <td>&lt;a target='_blank' href = 'https://urn.nb.no/U...</td>\n",
       "      <td>URN:NBN:no-nb_digistorting_1977-78_part3_vol-f</td>\n",
       "      <td>... Fra norsk side deltok &lt;b&gt;statsminister&lt;/b&gt;...</td>\n",
       "    </tr>\n",
       "    <tr>\n",
       "      <th>32410</th>\n",
       "      <td>&lt;a target='_blank' href = 'https://urn.nb.no/U...</td>\n",
       "      <td>URN:NBN:no-nb_digistorting_1977-78_part3_vol-f</td>\n",
       "      <td>... I sin tale på møtet sa &lt;b&gt;statsminister&lt;/b...</td>\n",
       "    </tr>\n",
       "    <tr>\n",
       "      <th>32411</th>\n",
       "      <td>&lt;a target='_blank' href = 'https://urn.nb.no/U...</td>\n",
       "      <td>URN:NBN:no-nb_digistorting_1977-78_part3_vol-f</td>\n",
       "      <td>... anmodet om å foreta en studie av langtidst...</td>\n",
       "    </tr>\n",
       "    <tr>\n",
       "      <th>32412</th>\n",
       "      <td>&lt;a target='_blank' href = 'https://urn.nb.no/U...</td>\n",
       "      <td>URN:NBN:no-nb_digistorting_1977-78_part3_vol-f</td>\n",
       "      <td>... et legitimt emne for forhandlinger i forbi...</td>\n",
       "    </tr>\n",
       "    <tr>\n",
       "      <th>32413</th>\n",
       "      <td>&lt;a target='_blank' href = 'https://urn.nb.no/U...</td>\n",
       "      <td>URN:NBN:no-nb_digistorting_1977-78_part3_vol-f</td>\n",
       "      <td>... fullt ut å gjeninntre i dette samarbeid de...</td>\n",
       "    </tr>\n",
       "  </tbody>\n",
       "</table>\n",
       "<p>32414 rows × 3 columns</p>\n",
       "</div>"
      ],
      "text/plain": [
       "                                                    link  \\\n",
       "0      <a target='_blank' href = 'https://urn.nb.no/U...   \n",
       "1      <a target='_blank' href = 'https://urn.nb.no/U...   \n",
       "2      <a target='_blank' href = 'https://urn.nb.no/U...   \n",
       "3      <a target='_blank' href = 'https://urn.nb.no/U...   \n",
       "4      <a target='_blank' href = 'https://urn.nb.no/U...   \n",
       "...                                                  ...   \n",
       "32409  <a target='_blank' href = 'https://urn.nb.no/U...   \n",
       "32410  <a target='_blank' href = 'https://urn.nb.no/U...   \n",
       "32411  <a target='_blank' href = 'https://urn.nb.no/U...   \n",
       "32412  <a target='_blank' href = 'https://urn.nb.no/U...   \n",
       "32413  <a target='_blank' href = 'https://urn.nb.no/U...   \n",
       "\n",
       "                                                   urn  \\\n",
       "0      URN:NBN:no-nb_digistorting_1992-93_part6_vol-ba   \n",
       "1       URN:NBN:no-nb_digistorting_1986-87_part8_vol-a   \n",
       "2       URN:NBN:no-nb_digistorting_1986-87_part8_vol-a   \n",
       "3       URN:NBN:no-nb_digistorting_1986-87_part8_vol-a   \n",
       "4       URN:NBN:no-nb_digistorting_1986-87_part8_vol-a   \n",
       "...                                                ...   \n",
       "32409   URN:NBN:no-nb_digistorting_1977-78_part3_vol-f   \n",
       "32410   URN:NBN:no-nb_digistorting_1977-78_part3_vol-f   \n",
       "32411   URN:NBN:no-nb_digistorting_1977-78_part3_vol-f   \n",
       "32412   URN:NBN:no-nb_digistorting_1977-78_part3_vol-f   \n",
       "32413   URN:NBN:no-nb_digistorting_1977-78_part3_vol-f   \n",
       "\n",
       "                                             concordance  \n",
       "0      ... Allerede i mai 1991 skrev OFS til <b>stats...  \n",
       "1      ... Den svenske <b>statsminister</b> har også ...  \n",
       "2      ... Da Willoch var <b>statsminister</b> og vi ...  \n",
       "3      ... Det store fleirtalet i komiteen har ved de...  \n",
       "4      ... oktober 1975 , då han som <b>statsminister...  \n",
       "...                                                  ...  \n",
       "32409  ... Fra norsk side deltok <b>statsminister</b>...  \n",
       "32410  ... I sin tale på møtet sa <b>statsminister</b...  \n",
       "32411  ... anmodet om å foreta en studie av langtidst...  \n",
       "32412  ... et legitimt emne for forhandlinger i forbi...  \n",
       "32413  ... fullt ut å gjeninntre i dette samarbeid de...  \n",
       "\n",
       "[32414 rows x 3 columns]"
      ]
     },
     "execution_count": 9,
     "metadata": {},
     "output_type": "execute_result"
    }
   ],
   "source": [
    "conc.concordance"
   ]
  }
 ],
 "metadata": {
  "kernelspec": {
   "display_name": "Python 3 (ipykernel)",
   "language": "python",
   "name": "python3"
  },
  "language_info": {
   "codemirror_mode": {
    "name": "ipython",
    "version": 3
   },
   "file_extension": ".py",
   "mimetype": "text/x-python",
   "name": "python",
   "nbconvert_exporter": "python",
   "pygments_lexer": "ipython3",
   "version": "3.8.12"
  }
 },
 "nbformat": 4,
 "nbformat_minor": 4
}
